{
 "cells": [
  {
   "cell_type": "code",
   "execution_count": 1,
   "id": "9d04963c",
   "metadata": {},
   "outputs": [],
   "source": [
    "from IPython.display import clear_output\n",
    "def display_board(board):\n",
    "    clear_output()\n",
    "    print(\"     |    |     \")\n",
    "    print(f\"   {board[7]} |  {board[8]} | {board[9]}  \")\n",
    "    print(\"     |    |     \")\n",
    "    print(\"________________\")\n",
    "    print(\"     |    |     \")\n",
    "    print(f\"   {board[4]} |  {board[5]} | {board[6]}  \")\n",
    "    print(\"     |    |     \")\n",
    "    print(\"________________\")\n",
    "    print(\"     |    |     \")\n",
    "    print(f\"   {board[1]} |  {board[2]} | {board[3]}  \")\n",
    "    print(\"     |    |     \")\n",
    "    print(\"                         _Legend for choosing position_ \")\n",
    "    print(\"                                      7|8|9\")\n",
    "    print(\"                                      4|5|6\")\n",
    "    print(\"                                      1|2|3\")"
   ]
  },
  {
   "cell_type": "code",
   "execution_count": 2,
   "id": "f7c8efe8",
   "metadata": {},
   "outputs": [],
   "source": [
    "def player_input():\n",
    "    global str1\n",
    "    global str2\n",
    "    while str1 not in ['X','O'] or str2 not in ['X','O'] or str1==str2:\n",
    "        str1= str(input(\"Player 1 please pick a marker X or O :       \"))\n",
    "        if str1 not in ['X','O']:\n",
    "            print(\"please choose valid inputs!!\")\n",
    "        else:\n",
    "            str2= str(input(\"Player 2 please pick a marker X or O :       \"))\n",
    "            if str2 not in ['X','O']:\n",
    "                print(\"please choose valid inputs!!\")\n",
    "            elif str1 == str2:\n",
    "                print(\"Player 1 and Player 2 cannot have the same markers!\")\n",
    "            else:\n",
    "                pass\n",
    "    return str1\n",
    "    return str2      "
   ]
  },
  {
   "cell_type": "code",
   "execution_count": 3,
   "id": "1eaaeaeb",
   "metadata": {},
   "outputs": [],
   "source": [
    "def place_marker(board, marker, position):\n",
    "    board[position]=marker\n",
    "    return board"
   ]
  },
  {
   "cell_type": "code",
   "execution_count": 4,
   "id": "dab9e916",
   "metadata": {},
   "outputs": [],
   "source": [
    "def win_check(board, mark):\n",
    "    if board[1]==board[5]==board[9]==mark:\n",
    "        return True\n",
    "    elif board[3]==board[5]==board[7]==mark:\n",
    "        return True\n",
    "    elif board[1]==board[2]==board[3]==mark:\n",
    "        return True\n",
    "    elif board[7]==board[8]==board[9]==mark:\n",
    "        return True\n",
    "    elif board[4]==board[5]==board[6]==mark:\n",
    "        return True\n",
    "    elif board[1]==board[4]==board[7]==mark:\n",
    "        return True\n",
    "    elif board[2]==board[5]==board[8]==mark:\n",
    "        return True\n",
    "    elif board[3]==board[6]==board[9]==mark:\n",
    "        return True\n",
    "    else:\n",
    "        return False "
   ]
  },
  {
   "cell_type": "code",
   "execution_count": 5,
   "id": "9e9d4f1b",
   "metadata": {},
   "outputs": [],
   "source": [
    "def space_check(board, position):    \n",
    "    if board[position]==\" \":\n",
    "        print(position)\n",
    "        return True\n",
    "    else:\n",
    "        return False    "
   ]
  },
  {
   "cell_type": "code",
   "execution_count": 6,
   "id": "c09e1674",
   "metadata": {},
   "outputs": [],
   "source": [
    "def full_board_check(board):\n",
    "    for i in range(1,10):\n",
    "        if board[i]==\" \":\n",
    "            return False\n",
    "    print(\"DRAW!!\")\n",
    "    return True"
   ]
  },
  {
   "cell_type": "code",
   "execution_count": 7,
   "id": "8710290b",
   "metadata": {},
   "outputs": [],
   "source": [
    "def player_move(board):\n",
    "        position='wrong'\n",
    "        while position not in ['1','2','3','4','5','6','7','8','9']:\n",
    "            position=input(\"Enter your next valid position:   \")\n",
    "            if position not in ['1','2','3','4','5','6','7','8','9']:\n",
    "                print(\"That's not a valid input for position!!!\")\n",
    "        return int(position)\n",
    "    "
   ]
  },
  {
   "cell_type": "code",
   "execution_count": 8,
   "id": "3c25e157",
   "metadata": {},
   "outputs": [],
   "source": [
    "def replay():\n",
    "    again=\"\"\n",
    "    while again not in [\"Y\",\"N\"]:\n",
    "        again=input(\"Wanna play again? (Y) or (N):  \")\n",
    "        if again not in [\"Y\",\"N\"]:\n",
    "            print(\"Invalid Input\")\n",
    "        else:\n",
    "            pass\n",
    "    if again == \"Y\":\n",
    "        return True\n",
    "    else:\n",
    "        return False"
   ]
  },
  {
   "cell_type": "code",
   "execution_count": 9,
   "id": "9ea6193a",
   "metadata": {},
   "outputs": [
    {
     "name": "stdout",
     "output_type": "stream",
     "text": [
      "     |    |     \n",
      "   X |  O | X  \n",
      "     |    |     \n",
      "________________\n",
      "     |    |     \n",
      "   X |  O | O  \n",
      "     |    |     \n",
      "________________\n",
      "     |    |     \n",
      "   O |  X | X  \n",
      "     |    |     \n",
      "                         _Legend for choosing position_ \n",
      "                                      7|8|9\n",
      "                                      4|5|6\n",
      "                                      1|2|3\n",
      "DRAW!!\n",
      "DRAW!!\n",
      "Wanna play again? (Y) or (N):  N\n",
      "Thank You for playing!\n"
     ]
    }
   ],
   "source": [
    "game_on=True\n",
    "str1=\"\"\n",
    "str2=\"\"\n",
    "mark=marker=\"\"\n",
    "f=0\n",
    "while game_on is True:\n",
    "    str1=\"\"\n",
    "    str2=\"\"\n",
    "    mark=marker=\"\"\n",
    "    f=0\n",
    "    board=['#',\" \",\" \",\" \",\" \",\" \",\" \",\" \",\" \",\" \"]\n",
    "    display_board(board)\n",
    "    while full_board_check(board) is False:\n",
    "        player_input()\n",
    "        if f%2==0:\n",
    "            print(\"Player 1's move: \")\n",
    "            mark=marker=str1\n",
    "            position=player_move(board)\n",
    "            while position not in range(1,10) or board[position]!=\" \":\n",
    "                print(\"..........Invalid Move..........\")\n",
    "                position=player_move(board)\n",
    "            if space_check(board,position):\n",
    "                place_marker(board,marker,position)\n",
    "                f+=1\n",
    "            else:\n",
    "                print(\"Please choose an empty space!!\")\n",
    "        else:\n",
    "            print(\"Player 2's move: \")\n",
    "            mark=marker=str2\n",
    "            position=player_move(board)\n",
    "            while position not in range(1,10) or board[position]!=\" \":\n",
    "                print(\"..........Invalid Move..........\")\n",
    "                position=player_move(board)\n",
    "            if space_check(board,position):\n",
    "                place_marker(board,marker,position)\n",
    "                f+=1\n",
    "            else:\n",
    "                print(\"Please choose an empty space!!\")        \n",
    "        if win_check(board,mark) and f%2==1:\n",
    "            display_board(board)\n",
    "            print(\"Player 1 wins!!!\")\n",
    "            break\n",
    "        elif win_check(board,mark) and f%2==0:\n",
    "            display_board(board)\n",
    "            print(\"Player 2 wins!!!\")\n",
    "            break\n",
    "        else:\n",
    "            display_board(board)\n",
    "        full_board_check(board)\n",
    "    game_on=replay()\n",
    "print(\"Thank You for playing!\")    \n"
   ]
  },
  {
   "cell_type": "code",
   "execution_count": null,
   "id": "964414b5",
   "metadata": {},
   "outputs": [],
   "source": []
  },
  {
   "cell_type": "code",
   "execution_count": null,
   "id": "00db1bad",
   "metadata": {},
   "outputs": [],
   "source": []
  },
  {
   "cell_type": "code",
   "execution_count": null,
   "id": "999f7c69",
   "metadata": {},
   "outputs": [],
   "source": []
  },
  {
   "cell_type": "markdown",
   "id": "3c3915ca",
   "metadata": {},
   "source": [
    "### "
   ]
  },
  {
   "cell_type": "code",
   "execution_count": null,
   "id": "e45cfe8d",
   "metadata": {},
   "outputs": [],
   "source": []
  }
 ],
 "metadata": {
  "kernelspec": {
   "display_name": "Python 3",
   "language": "python",
   "name": "python3"
  },
  "language_info": {
   "codemirror_mode": {
    "name": "ipython",
    "version": 3
   },
   "file_extension": ".py",
   "mimetype": "text/x-python",
   "name": "python",
   "nbconvert_exporter": "python",
   "pygments_lexer": "ipython3",
   "version": "3.8.8"
  }
 },
 "nbformat": 4,
 "nbformat_minor": 5
}
